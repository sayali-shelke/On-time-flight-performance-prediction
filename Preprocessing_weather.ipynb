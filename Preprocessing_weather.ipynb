{
 "cells": [
  {
   "cell_type": "code",
   "execution_count": null,
   "metadata": {},
   "outputs": [],
   "source": [
    "import json\n",
    "import pandas as pd\n",
    "def read(file):\n",
    "    with open(file) as f:\n",
    "        s = f.read()\n",
    "    jansixteen = json.loads(s)\n",
    "    \n",
    "    return jansixteen\n",
    "#print(jansixteen)\n",
    "#print(jansixteen)\n",
    "\n",
    "def for_mat(jansixteen):\n",
    "    a  =jansixteen['data']['weather']\n",
    "    b =(pd.DataFrame(a))\n",
    "    a_hourly=b[\"hourly\"]\n",
    "    print('1')\n",
    "    lis=list()\n",
    "    for i in range(len(a_hourly)):\n",
    "        lis.append(a_hourly[i])\n",
    "    c= pd.DataFrame(a_hourly[0])\n",
    "    df = pd.DataFrame()\n",
    "    #print(lis[1][23])\n",
    "    for i in range(len(lis)):\n",
    "        for j in range(24):\n",
    "            df=df.append(pd.DataFrame(lis[i][j],columns=c.columns),ignore_index=True)\n",
    "    df.head(len(df)-1)\n",
    "    print(\"This is the total number of values in the column \")\n",
    "    print(len(lis)*len(a_hourly[0]))\n",
    "    return a,b,c,df\n",
    "\n",
    "\n",
    "\n",
    "def extract_col_as_df(df, column_name,c):\n",
    "    data=[]\n",
    "    lis_of_col_names = c.columns\n",
    "    for i in range(len(df[column_name])):\n",
    "        data.append(df[column_name][i])\n",
    "    df = pd.DataFrame()\n",
    "    for i in range(len(data)):\n",
    "        for j in range(24):\n",
    "            df = df.append(pd.DataFrame(data[i][j],columns=lis_of_col_names),ignore_index=True)\n",
    "    return df\n",
    "\n",
    "\n",
    "array=[]\n",
    "for i in range(1,13):\n",
    "    file = read('DFW/2014-'+str(i)+'.json')\n",
    "    a,b,c,df = for_mat(file)\n",
    "    df_hourly = extract_col_as_df(b, 'hourly',c)\n",
    "    array.append(df_hourly)\n"
   ]
  },
  {
   "cell_type": "code",
   "execution_count": null,
   "metadata": {
    "scrolled": true
   },
   "outputs": [],
   "source": []
  },
  {
   "cell_type": "code",
   "execution_count": null,
   "metadata": {},
   "outputs": [],
   "source": [
    "for i in range(1,13):\n",
    "    if i == 1:\n",
    "        \n",
    "        jan = pd.date_range(start=\"1-Jan-2014\", end=\"31-Jan-2014\")\n",
    "        num_repeats = 24\n",
    "        repeated_jans = jan.repeat(num_repeats)\n",
    "        array[i-1]['date'] = repeated_jans\n",
    "    if i == 2:\n",
    "        \n",
    "        jan = pd.date_range(start=\"1-Feb-2014\", end=\"28-Feb-2014\")\n",
    "        num_repeats = 24\n",
    "        repeated_jans = jan.repeat(num_repeats)\n",
    "        array[i-1]['date'] = repeated_jans\n",
    "    if i == 3:\n",
    "        \n",
    "        jan = pd.date_range(start=\"1-Mar-2014\", end=\"31-Mar-2014\")\n",
    "        num_repeats = 24\n",
    "        repeated_jans = jan.repeat(num_repeats)\n",
    "        array[i-1]['date'] = repeated_jans\n",
    "    if i == 4:\n",
    "        \n",
    "        jan = pd.date_range(start=\"1-Apr-2014\", end=\"30-Apr-2014\")\n",
    "        num_repeats = 24\n",
    "        repeated_jans = jan.repeat(num_repeats)\n",
    "        array[i-1]['date'] = repeated_jans\n",
    "    if i == 5:\n",
    "        \n",
    "        jan = pd.date_range(start=\"1-May-2014\", end=\"31-May-2014\")\n",
    "        num_repeats = 24\n",
    "        repeated_jans = jan.repeat(num_repeats)\n",
    "        array[i-1]['date'] = repeated_jans\n",
    "    if i == 6:\n",
    "        \n",
    "        jan = pd.date_range(start=\"1-Jun-2014\", end=\"30-Jun-2014\")\n",
    "        num_repeats = 24\n",
    "        repeated_jans = jan.repeat(num_repeats)\n",
    "        array[i-1]['date'] = repeated_jans\n",
    "    if i == 7:\n",
    "        \n",
    "        jan = pd.date_range(start=\"1-Jul-2014\", end=\"31-Jul-2014\")\n",
    "        num_repeats = 24\n",
    "        repeated_jans = jan.repeat(num_repeats)\n",
    "        array[i-1]['date'] = repeated_jans\n",
    "    if i == 8:\n",
    "        \n",
    "        jan = pd.date_range(start=\"1-Aug-2014\", end=\"31-Aug-2014\")\n",
    "        num_repeats = 24\n",
    "        repeated_jans = jan.repeat(num_repeats)\n",
    "        array[i-1]['date'] = repeated_jans\n",
    "    if i == 9:\n",
    "        \n",
    "        jan = pd.date_range(start=\"1-Sep-2014\", end=\"30-Sep-2014\")\n",
    "        num_repeats = 24\n",
    "        repeated_jans = jan.repeat(num_repeats)\n",
    "        array[i-1]['date'] = repeated_jans\n",
    "    if i == 10:\n",
    "        \n",
    "        jan = pd.date_range(start=\"1-Oct-2014\", end=\"31-Oct-2014\")\n",
    "        num_repeats = 24\n",
    "        repeated_jans = jan.repeat(num_repeats)\n",
    "        array[i-1]['date'] = repeated_jans\n",
    "    if i == 11:\n",
    "        \n",
    "        jan = pd.date_range(start=\"1-Nov-2014\", end=\"30-Nov-2014\")\n",
    "        num_repeats = 24\n",
    "        repeated_jans = jan.repeat(num_repeats)\n",
    "        array[i-1]['date'] = repeated_jans\n",
    "    if i == 12:\n",
    "        \n",
    "        jan = pd.date_range(start=\"1-Dec-2014\", end=\"31-Dec-2014\")\n",
    "        num_repeats = 24\n",
    "        repeated_jans = jan.repeat(num_repeats)\n",
    "        array[i-1]['date'] = repeated_jans\n"
   ]
  },
  {
   "cell_type": "code",
   "execution_count": null,
   "metadata": {},
   "outputs": [],
   "source": [
    "array=ne_array"
   ]
  },
  {
   "cell_type": "code",
   "execution_count": null,
   "metadata": {},
   "outputs": [],
   "source": [
    "def conv(yy):\n",
    "    yy = pd.DataFrame(yy)\n",
    "    d1 = pd.to_numeric(yy.stack(), errors='coerce').fillna(0)\n",
    "    d2 = (pd.to_timedelta(d1 // 100, unit='hours') + pd.to_timedelta(d1 % 100, unit='T')).unstack()\n",
    "    return d2\n",
    "\n",
    "ne_array=array\n",
    "for i in range(0,12):\n",
    "    yy = array[i]['time']\n",
    "    d2 = conv(yy)\n",
    "    print(i)\n",
    "    array[i] = array[i].merge(d2, how='outer', left_index=True, right_index=True)\n"
   ]
  },
  {
   "cell_type": "code",
   "execution_count": null,
   "metadata": {},
   "outputs": [],
   "source": [
    "for i in range(0,12):\n",
    "    array[i][\"end_Time\"] = array[i][\"date\"] + array[i][\"time_y\"].map(pd.Timedelta.to_pytimedelta)"
   ]
  },
  {
   "cell_type": "code",
   "execution_count": null,
   "metadata": {},
   "outputs": [],
   "source": [
    "dfw = array[0]\n",
    "\n",
    "for i in range(1,12):\n",
    "    dfw = ewr.append(array[i],ignore_index = True)"
   ]
  },
  {
   "cell_type": "code",
   "execution_count": null,
   "metadata": {},
   "outputs": [],
   "source": [
    "clt"
   ]
  },
  {
   "cell_type": "code",
   "execution_count": null,
   "metadata": {},
   "outputs": [],
   "source": [
    "ewr"
   ]
  },
  {
   "cell_type": "code",
   "execution_count": null,
   "metadata": {},
   "outputs": [],
   "source": [
    "dfw.to_csv('dfw.csv',index = False)"
   ]
  },
  {
   "cell_type": "code",
   "execution_count": null,
   "metadata": {},
   "outputs": [],
   "source": [
    "# perform for every state you want to include in the traing and testing"
   ]
  }
 ],
 "metadata": {
  "kernelspec": {
   "display_name": "Python 3",
   "language": "python",
   "name": "python3"
  },
  "language_info": {
   "codemirror_mode": {
    "name": "ipython",
    "version": 3
   },
   "file_extension": ".py",
   "mimetype": "text/x-python",
   "name": "python",
   "nbconvert_exporter": "python",
   "pygments_lexer": "ipython3",
   "version": "3.7.4"
  }
 },
 "nbformat": 4,
 "nbformat_minor": 2
}
